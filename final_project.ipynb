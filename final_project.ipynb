{
 "cells": [
  {
   "cell_type": "markdown",
   "metadata": {
    "id": "agec9yTaWrNh"
   },
   "source": [
    "# Introduction"
   ]
  },
  {
   "cell_type": "markdown",
   "metadata": {
    "id": "Z0asD0rbWrEu"
   },
   "source": [
    "What is Exploratory Data Analysis?"
   ]
  },
  {
   "cell_type": "markdown",
   "metadata": {
    "id": "tePg6N8oWrDQ"
   },
   "source": [
    "Exploratory Data Analysis or(EDA) is understanding the datasets by summarizing their main characteristcs often plotting them visually.This step is very important especially when we arrive at modeling the data in order to apply Machine learning.Plotting in EDA consists of Histograms,Box plot,Scatter plot and manymore.It often takes much time to explore the data.Through the process of EDA,we understand the problem better and try to uncover hidden insights.\n"
   ]
  },
  {
   "cell_type": "markdown",
   "metadata": {
    "id": "9jUobtGRWq7s"
   },
   "source": [
    "**How to perform Exploratory Analysis?**"
   ]
  },
  {
   "cell_type": "markdown",
   "metadata": {
    "id": "BenGrJ59WqvG"
   },
   "source": [
    "The answer is depends on the data set that you are working.There is no one method or common methods to perform EDA.where as in this notebook you can understand some common methods and plots that would be used in EDA process."
   ]
  },
  {
   "cell_type": "markdown",
   "metadata": {
    "id": "qitaa0yWXBQO"
   },
   "source": [
    "# 1. Importing the Required libraries for EDA\n"
   ]
  },
  {
   "cell_type": "code",
   "execution_count": 1,
   "metadata": {
    "executionInfo": {
     "elapsed": 630,
     "status": "ok",
     "timestamp": 1632898923254,
     "user": {
      "displayName": "Darshan Giri",
      "photoUrl": "https://lh3.googleusercontent.com/a/default-user=s64",
      "userId": "06256794807927158919"
     },
     "user_tz": -330
    },
    "id": "-RXFpj2RWpbg"
   },
   "outputs": [],
   "source": [
    "import numpy as np\n",
    "import pandas as pd\n",
    "import matplotlib.pyplot as plt\n",
    "import seaborn as sns\n",
    "%matplotlib inline\n",
    "import requests\n",
    "from bs4 import BeautifulSoup\n",
    "\n",
    "import re"
   ]
  },
  {
   "cell_type": "code",
   "execution_count": 2,
   "metadata": {
    "colab": {
     "base_uri": "https://localhost:8080/",
     "height": 140
    },
    "executionInfo": {
     "elapsed": 36,
     "status": "ok",
     "timestamp": 1632898923670,
     "user": {
      "displayName": "Darshan Giri",
      "photoUrl": "https://lh3.googleusercontent.com/a/default-user=s64",
      "userId": "06256794807927158919"
     },
     "user_tz": -330
    },
    "id": "u489AVSsKxpw",
    "outputId": "ee5fe149-9da8-4f5e-b774-3c434a3bf183"
   },
   "outputs": [
    {
     "data": {
      "text/plain": [
       "'data_list = []\\nfor i in range(1,40):\\n    url = \\'https://www.flipkart.com/search?q=tv&otracker=search&otracker1=search&marketplace=FLIPKART&as-show=on&as=off\\'+str(i)\\n    page = requests.get(url)\\n    pagecontent = page.text\\n    soup = BeautifulSoup(pagecontent)\\n    #box = soup.find_all(\\'div\\',attrs={\\'class\\':\\'_3pLy-c row\\'})\\n    #box = soup.find_all(\\'div\\',attrs={\\'class\\':\\'_4rR01T\\'})\\n    main_box = soup.find_all(\\'div\\',{\\'class\\':\\'_3pLy-c row\\'})\\n    \\n    for box in main_box:\\n        data = {}\\n        data[\\'Title\\'] = box.find(\\'div\\',{\\'class\\':\\'_4rR01T\\'}).text\\n        data[\\'Rating\\'] = box.find(\\'div\\',{\\'class\\':\\'_3LWZlK\\'}).text\\n        data[\\'Application\\'] = box.find_all(\\'li\\')[0].text.strip()\\n        data[\\'Os\\'] = box.find_all(\\'li\\')[1].text.strip()\\n        data[\\'Resolution\\'] = box.find_all(\\'li\\')[2].text.strip()\\n        data[\\'Sound_Output\\'] = box.find_all(\\'li\\')[3].text.strip()\\n        data[\\'Refresh_Rate\\'] = box.find_all(\\'li\\')[4].text.strip()\\n        data[\\'USB\\'] = box.find_all(\\'li\\')[5].text.strip()\\n        #data[\\'Warranty\\']  = box.find_all(\\'li\\')[5].text.strip()\\n        #data[\\'Rating\\'] = box.find(\\'div\\',{\\'class\\':\"_3LWZlK\"}).text\\n        data[\\'Price\\'] = box.find(\\'div\\',{\\'class\\':\\'_30jeq3 _1_WHN1\\'}).text.replace(\\'₹\\',\\'\\')\\n        \\n        data_list.append(data)'"
      ]
     },
     "execution_count": 2,
     "metadata": {},
     "output_type": "execute_result"
    }
   ],
   "source": [
    "data_list = []\n",
    "for i in range(1,40):\n",
    "    url = 'https://www.flipkart.com/search?q=tv&otracker=search&otracker1=search&marketplace=FLIPKART&as-show=on&as=off'+str(i)\n",
    "    page = requests.get(url)\n",
    "    pagecontent = page.text\n",
    "    soup = BeautifulSoup(pagecontent)\n",
    "    main_box = soup.find_all('div',{'class':'_3pLy-c row'})\n",
    "    \n",
    "    for box in main_box:\n",
    "        data = {}\n",
    "        data['Title'] = box.find('div',{'class':'_4rR01T'}).text\n",
    "        data['Rating'] = box.find('div',{'class':'_3LWZlK'}).text\n",
    "        data['Application'] = box.find_all('li')[0].text.strip()\n",
    "        data['Os'] = box.find_all('li')[1].text.strip()\n",
    "        data['Resolution'] = box.find_all('li')[2].text.strip()\n",
    "        data['Sound_Output'] = box.find_all('li')[3].text.strip()\n",
    "        data['Refresh_Rate'] = box.find_all('li')[4].text.strip()\n",
    "        data['USB'] = box.find_all('li')[5].text.strip()\n",
    "        data['Price'] = box.find('div',{'class':'_30jeq3 _1_WHN1'}).text.replace('₹','')\n",
    "        \n",
    "        data_list.append(data)\n"
   ]
  },
  {
   "cell_type": "code",
   "execution_count": 3,
   "metadata": {
    "executionInfo": {
     "elapsed": 89,
     "status": "ok",
     "timestamp": 1632898946534,
     "user": {
      "displayName": "Darshan Giri",
      "photoUrl": "https://lh3.googleusercontent.com/a/default-user=s64",
      "userId": "06256794807927158919"
     },
     "user_tz": -330
    },
    "id": "56yij-tYXXIJ"
   },
   "outputs": [],
   "source": [
    "\n",
    "dataset = pd.read_csv(r\"C:\\Users\\Natraj\\TV123\\project.csv\")"
   ]
  },
  {
   "cell_type": "code",
   "execution_count": 4,
   "metadata": {
    "colab": {
     "base_uri": "https://localhost:8080/",
     "height": 424
    },
    "executionInfo": {
     "elapsed": 93,
     "status": "ok",
     "timestamp": 1632898946540,
     "user": {
      "displayName": "Darshan Giri",
      "photoUrl": "https://lh3.googleusercontent.com/a/default-user=s64",
      "userId": "06256794807927158919"
     },
     "user_tz": -330
    },
    "id": "VHKAkbxVZBIu",
    "outputId": "f648115b-5c72-4433-859a-76136ebaa289"
   },
   "outputs": [
    {
     "data": {
      "text/html": [
       "<div>\n",
       "<style scoped>\n",
       "    .dataframe tbody tr th:only-of-type {\n",
       "        vertical-align: middle;\n",
       "    }\n",
       "\n",
       "    .dataframe tbody tr th {\n",
       "        vertical-align: top;\n",
       "    }\n",
       "\n",
       "    .dataframe thead th {\n",
       "        text-align: right;\n",
       "    }\n",
       "</style>\n",
       "<table border=\"1\" class=\"dataframe\">\n",
       "  <thead>\n",
       "    <tr style=\"text-align: right;\">\n",
       "      <th></th>\n",
       "      <th>Unnamed: 0</th>\n",
       "      <th>Brand</th>\n",
       "      <th>Application</th>\n",
       "      <th>Os</th>\n",
       "      <th>Resolution</th>\n",
       "      <th>Sound_Output</th>\n",
       "      <th>Refresh_Rate</th>\n",
       "      <th>USB</th>\n",
       "      <th>Rating</th>\n",
       "      <th>Price</th>\n",
       "      <th>HDMI</th>\n",
       "      <th>Screen_size</th>\n",
       "    </tr>\n",
       "  </thead>\n",
       "  <tbody>\n",
       "    <tr>\n",
       "      <th>0</th>\n",
       "      <td>0</td>\n",
       "      <td>SAMSUNG</td>\n",
       "      <td>Netflix|Disney+Hotstar|Youtube</td>\n",
       "      <td>Tizen</td>\n",
       "      <td>Ultra HD</td>\n",
       "      <td>20</td>\n",
       "      <td>120</td>\n",
       "      <td>2</td>\n",
       "      <td>4.4</td>\n",
       "      <td>98970</td>\n",
       "      <td>4</td>\n",
       "      <td>65 inch</td>\n",
       "    </tr>\n",
       "    <tr>\n",
       "      <th>1</th>\n",
       "      <td>1</td>\n",
       "      <td>Mi</td>\n",
       "      <td>Netflix|Prime Video|Disney+Hotstar|Youtube</td>\n",
       "      <td>Android</td>\n",
       "      <td>HD Ready</td>\n",
       "      <td>20</td>\n",
       "      <td>60</td>\n",
       "      <td>2</td>\n",
       "      <td>4.4</td>\n",
       "      <td>16999</td>\n",
       "      <td>3</td>\n",
       "      <td>32 inch</td>\n",
       "    </tr>\n",
       "    <tr>\n",
       "      <th>2</th>\n",
       "      <td>2</td>\n",
       "      <td>LG</td>\n",
       "      <td>Netflix|Prime Video|Disney+Hotstar|Youtube</td>\n",
       "      <td>WebOS</td>\n",
       "      <td>HD Ready</td>\n",
       "      <td>10</td>\n",
       "      <td>50</td>\n",
       "      <td>1</td>\n",
       "      <td>4.4</td>\n",
       "      <td>17999</td>\n",
       "      <td>2</td>\n",
       "      <td>32 inch</td>\n",
       "    </tr>\n",
       "    <tr>\n",
       "      <th>3</th>\n",
       "      <td>3</td>\n",
       "      <td>Mi</td>\n",
       "      <td>Netflix|Prime Video|Disney+Hotstar|Youtube</td>\n",
       "      <td>Android</td>\n",
       "      <td>Ultra HD</td>\n",
       "      <td>20</td>\n",
       "      <td>60</td>\n",
       "      <td>2</td>\n",
       "      <td>4.3</td>\n",
       "      <td>29999</td>\n",
       "      <td>3</td>\n",
       "      <td>43 inch</td>\n",
       "    </tr>\n",
       "    <tr>\n",
       "      <th>4</th>\n",
       "      <td>4</td>\n",
       "      <td>Mi</td>\n",
       "      <td>Netflix|Prime Video|Disney+Hotstar|Youtube</td>\n",
       "      <td>Android</td>\n",
       "      <td>Full HD</td>\n",
       "      <td>20</td>\n",
       "      <td>60</td>\n",
       "      <td>2</td>\n",
       "      <td>4.3</td>\n",
       "      <td>24999</td>\n",
       "      <td>3</td>\n",
       "      <td>40 inch</td>\n",
       "    </tr>\n",
       "    <tr>\n",
       "      <th>...</th>\n",
       "      <td>...</td>\n",
       "      <td>...</td>\n",
       "      <td>...</td>\n",
       "      <td>...</td>\n",
       "      <td>...</td>\n",
       "      <td>...</td>\n",
       "      <td>...</td>\n",
       "      <td>...</td>\n",
       "      <td>...</td>\n",
       "      <td>...</td>\n",
       "      <td>...</td>\n",
       "      <td>...</td>\n",
       "    </tr>\n",
       "    <tr>\n",
       "      <th>1747</th>\n",
       "      <td>1747</td>\n",
       "      <td>OnePlus</td>\n",
       "      <td>Netflix|Prime Video|Disney+Hotstar|Youtube</td>\n",
       "      <td>Android</td>\n",
       "      <td>Full HD</td>\n",
       "      <td>20</td>\n",
       "      <td>60</td>\n",
       "      <td>2</td>\n",
       "      <td>4.3</td>\n",
       "      <td>29499</td>\n",
       "      <td>2</td>\n",
       "      <td>43 inch</td>\n",
       "    </tr>\n",
       "    <tr>\n",
       "      <th>1748</th>\n",
       "      <td>1748</td>\n",
       "      <td>iFFALCON</td>\n",
       "      <td>Netflix|Disney+Hotstar|Youtube</td>\n",
       "      <td>Android</td>\n",
       "      <td>Ultra HD</td>\n",
       "      <td>30</td>\n",
       "      <td>60</td>\n",
       "      <td>2</td>\n",
       "      <td>4.3</td>\n",
       "      <td>36999</td>\n",
       "      <td>3</td>\n",
       "      <td>55 inch</td>\n",
       "    </tr>\n",
       "    <tr>\n",
       "      <th>1749</th>\n",
       "      <td>1749</td>\n",
       "      <td>TCL</td>\n",
       "      <td>Netflix|Disney+Hotstar|Youtube</td>\n",
       "      <td>Android</td>\n",
       "      <td>HD Ready</td>\n",
       "      <td>20</td>\n",
       "      <td>60</td>\n",
       "      <td>1</td>\n",
       "      <td>4.2</td>\n",
       "      <td>16499</td>\n",
       "      <td>2</td>\n",
       "      <td>32 inch</td>\n",
       "    </tr>\n",
       "    <tr>\n",
       "      <th>1750</th>\n",
       "      <td>1750</td>\n",
       "      <td>SAMSUNG</td>\n",
       "      <td>Netflix|Disney+Hotstar|Youtube</td>\n",
       "      <td>Tizen</td>\n",
       "      <td>Full HD</td>\n",
       "      <td>20</td>\n",
       "      <td>60</td>\n",
       "      <td>1</td>\n",
       "      <td>4.4</td>\n",
       "      <td>32990</td>\n",
       "      <td>2</td>\n",
       "      <td>43 inch</td>\n",
       "    </tr>\n",
       "    <tr>\n",
       "      <th>1751</th>\n",
       "      <td>1751</td>\n",
       "      <td>Thomson</td>\n",
       "      <td>Prime Video|Disney+Hotstar|Youtube</td>\n",
       "      <td>Android</td>\n",
       "      <td>HD Ready</td>\n",
       "      <td>24</td>\n",
       "      <td>60</td>\n",
       "      <td>2</td>\n",
       "      <td>4.4</td>\n",
       "      <td>14499</td>\n",
       "      <td>3</td>\n",
       "      <td>32 inch</td>\n",
       "    </tr>\n",
       "  </tbody>\n",
       "</table>\n",
       "<p>1752 rows × 12 columns</p>\n",
       "</div>"
      ],
      "text/plain": [
       "      Unnamed: 0     Brand                                 Application  \\\n",
       "0              0   SAMSUNG              Netflix|Disney+Hotstar|Youtube   \n",
       "1              1        Mi  Netflix|Prime Video|Disney+Hotstar|Youtube   \n",
       "2              2        LG  Netflix|Prime Video|Disney+Hotstar|Youtube   \n",
       "3              3        Mi  Netflix|Prime Video|Disney+Hotstar|Youtube   \n",
       "4              4        Mi  Netflix|Prime Video|Disney+Hotstar|Youtube   \n",
       "...          ...       ...                                         ...   \n",
       "1747        1747   OnePlus  Netflix|Prime Video|Disney+Hotstar|Youtube   \n",
       "1748        1748  iFFALCON              Netflix|Disney+Hotstar|Youtube   \n",
       "1749        1749       TCL              Netflix|Disney+Hotstar|Youtube   \n",
       "1750        1750   SAMSUNG              Netflix|Disney+Hotstar|Youtube   \n",
       "1751        1751   Thomson          Prime Video|Disney+Hotstar|Youtube   \n",
       "\n",
       "           Os Resolution  Sound_Output  Refresh_Rate  USB  Rating  Price  \\\n",
       "0       Tizen   Ultra HD            20           120    2     4.4  98970   \n",
       "1     Android   HD Ready            20            60    2     4.4  16999   \n",
       "2       WebOS   HD Ready            10            50    1     4.4  17999   \n",
       "3     Android   Ultra HD            20            60    2     4.3  29999   \n",
       "4     Android   Full HD             20            60    2     4.3  24999   \n",
       "...       ...        ...           ...           ...  ...     ...    ...   \n",
       "1747  Android   Full HD             20            60    2     4.3  29499   \n",
       "1748  Android   Ultra HD            30            60    2     4.3  36999   \n",
       "1749  Android   HD Ready            20            60    1     4.2  16499   \n",
       "1750    Tizen   Full HD             20            60    1     4.4  32990   \n",
       "1751  Android   HD Ready            24            60    2     4.4  14499   \n",
       "\n",
       "      HDMI Screen_size  \n",
       "0        4     65 inch  \n",
       "1        3     32 inch  \n",
       "2        2     32 inch  \n",
       "3        3     43 inch  \n",
       "4        3     40 inch  \n",
       "...    ...         ...  \n",
       "1747     2     43 inch  \n",
       "1748     3     55 inch  \n",
       "1749     2     32 inch  \n",
       "1750     2     43 inch  \n",
       "1751     3     32 inch  \n",
       "\n",
       "[1752 rows x 12 columns]"
      ]
     },
     "execution_count": 4,
     "metadata": {},
     "output_type": "execute_result"
    }
   ],
   "source": [
    "dataset"
   ]
  },
  {
   "cell_type": "markdown",
   "metadata": {
    "id": "6dkPcyiwaTKH"
   },
   "source": [
    "# 1.2 Checking the types of data and basic summary stats"
   ]
  },
  {
   "cell_type": "markdown",
   "metadata": {
    "id": "YG_ZwUR4aZZo"
   },
   "source": [
    "Here we check for the datatypes because sometimes the rating or the price of the tv would be stored as a string.If in that case,we have to convert that string to integer data only then we can plot the data via graph .Here in this case,the data is already in integer format so notthing to worry.\n",
    "\n"
   ]
  },
  {
   "cell_type": "code",
   "execution_count": 5,
   "metadata": {
    "colab": {
     "base_uri": "https://localhost:8080/"
    },
    "executionInfo": {
     "elapsed": 90,
     "status": "ok",
     "timestamp": 1632898946547,
     "user": {
      "displayName": "Darshan Giri",
      "photoUrl": "https://lh3.googleusercontent.com/a/default-user=s64",
      "userId": "06256794807927158919"
     },
     "user_tz": -330
    },
    "id": "oBkdI7G2aUXb",
    "outputId": "ac382f1f-d1ec-43c7-ff9b-68acd9d13f0f"
   },
   "outputs": [
    {
     "name": "stdout",
     "output_type": "stream",
     "text": [
      "<class 'pandas.core.frame.DataFrame'>\n",
      "RangeIndex: 1752 entries, 0 to 1751\n",
      "Data columns (total 12 columns):\n",
      " #   Column        Non-Null Count  Dtype  \n",
      "---  ------        --------------  -----  \n",
      " 0   Unnamed: 0    1752 non-null   int64  \n",
      " 1   Brand         1752 non-null   object \n",
      " 2   Application   1752 non-null   object \n",
      " 3   Os            1752 non-null   object \n",
      " 4   Resolution    1752 non-null   object \n",
      " 5   Sound_Output  1752 non-null   int64  \n",
      " 6   Refresh_Rate  1752 non-null   int64  \n",
      " 7   USB           1752 non-null   int64  \n",
      " 8   Rating        1752 non-null   float64\n",
      " 9   Price         1752 non-null   int64  \n",
      " 10  HDMI          1752 non-null   int64  \n",
      " 11  Screen_size   1752 non-null   object \n",
      "dtypes: float64(1), int64(6), object(5)\n",
      "memory usage: 164.4+ KB\n"
     ]
    }
   ],
   "source": [
    "# To display datatype of each column and also display the non-null rows for each column.\n",
    "dataset.info()"
   ]
  },
  {
   "cell_type": "code",
   "execution_count": 6,
   "metadata": {
    "colab": {
     "base_uri": "https://localhost:8080/",
     "height": 300
    },
    "executionInfo": {
     "elapsed": 83,
     "status": "ok",
     "timestamp": 1632898946550,
     "user": {
      "displayName": "Darshan Giri",
      "photoUrl": "https://lh3.googleusercontent.com/a/default-user=s64",
      "userId": "06256794807927158919"
     },
     "user_tz": -330
    },
    "id": "NvUXIau3aggl",
    "outputId": "d3c9276e-ea74-4a0a-f92e-10f69d11022e"
   },
   "outputs": [
    {
     "data": {
      "text/html": [
       "<div>\n",
       "<style scoped>\n",
       "    .dataframe tbody tr th:only-of-type {\n",
       "        vertical-align: middle;\n",
       "    }\n",
       "\n",
       "    .dataframe tbody tr th {\n",
       "        vertical-align: top;\n",
       "    }\n",
       "\n",
       "    .dataframe thead th {\n",
       "        text-align: right;\n",
       "    }\n",
       "</style>\n",
       "<table border=\"1\" class=\"dataframe\">\n",
       "  <thead>\n",
       "    <tr style=\"text-align: right;\">\n",
       "      <th></th>\n",
       "      <th>Unnamed: 0</th>\n",
       "      <th>Sound_Output</th>\n",
       "      <th>Refresh_Rate</th>\n",
       "      <th>USB</th>\n",
       "      <th>Rating</th>\n",
       "      <th>Price</th>\n",
       "      <th>HDMI</th>\n",
       "    </tr>\n",
       "  </thead>\n",
       "  <tbody>\n",
       "    <tr>\n",
       "      <th>count</th>\n",
       "      <td>1752.000000</td>\n",
       "      <td>1752.000000</td>\n",
       "      <td>1752.000000</td>\n",
       "      <td>1752.000000</td>\n",
       "      <td>1752.000000</td>\n",
       "      <td>1752.000000</td>\n",
       "      <td>1752.000000</td>\n",
       "    </tr>\n",
       "    <tr>\n",
       "      <th>mean</th>\n",
       "      <td>875.500000</td>\n",
       "      <td>21.051370</td>\n",
       "      <td>61.666667</td>\n",
       "      <td>1.808790</td>\n",
       "      <td>4.317922</td>\n",
       "      <td>28579.522260</td>\n",
       "      <td>2.658676</td>\n",
       "    </tr>\n",
       "    <tr>\n",
       "      <th>std</th>\n",
       "      <td>505.903153</td>\n",
       "      <td>3.733817</td>\n",
       "      <td>12.475752</td>\n",
       "      <td>0.487973</td>\n",
       "      <td>0.079178</td>\n",
       "      <td>17149.252962</td>\n",
       "      <td>0.555276</td>\n",
       "    </tr>\n",
       "    <tr>\n",
       "      <th>min</th>\n",
       "      <td>0.000000</td>\n",
       "      <td>10.000000</td>\n",
       "      <td>50.000000</td>\n",
       "      <td>1.000000</td>\n",
       "      <td>4.100000</td>\n",
       "      <td>13990.000000</td>\n",
       "      <td>2.000000</td>\n",
       "    </tr>\n",
       "    <tr>\n",
       "      <th>25%</th>\n",
       "      <td>437.750000</td>\n",
       "      <td>20.000000</td>\n",
       "      <td>60.000000</td>\n",
       "      <td>2.000000</td>\n",
       "      <td>4.300000</td>\n",
       "      <td>17499.000000</td>\n",
       "      <td>2.000000</td>\n",
       "    </tr>\n",
       "    <tr>\n",
       "      <th>50%</th>\n",
       "      <td>875.500000</td>\n",
       "      <td>20.000000</td>\n",
       "      <td>60.000000</td>\n",
       "      <td>2.000000</td>\n",
       "      <td>4.300000</td>\n",
       "      <td>24990.000000</td>\n",
       "      <td>3.000000</td>\n",
       "    </tr>\n",
       "    <tr>\n",
       "      <th>75%</th>\n",
       "      <td>1313.250000</td>\n",
       "      <td>20.000000</td>\n",
       "      <td>60.000000</td>\n",
       "      <td>2.000000</td>\n",
       "      <td>4.400000</td>\n",
       "      <td>34242.250000</td>\n",
       "      <td>3.000000</td>\n",
       "    </tr>\n",
       "    <tr>\n",
       "      <th>max</th>\n",
       "      <td>1751.000000</td>\n",
       "      <td>30.000000</td>\n",
       "      <td>120.000000</td>\n",
       "      <td>3.000000</td>\n",
       "      <td>4.400000</td>\n",
       "      <td>98970.000000</td>\n",
       "      <td>4.000000</td>\n",
       "    </tr>\n",
       "  </tbody>\n",
       "</table>\n",
       "</div>"
      ],
      "text/plain": [
       "        Unnamed: 0  Sound_Output  Refresh_Rate          USB       Rating  \\\n",
       "count  1752.000000   1752.000000   1752.000000  1752.000000  1752.000000   \n",
       "mean    875.500000     21.051370     61.666667     1.808790     4.317922   \n",
       "std     505.903153      3.733817     12.475752     0.487973     0.079178   \n",
       "min       0.000000     10.000000     50.000000     1.000000     4.100000   \n",
       "25%     437.750000     20.000000     60.000000     2.000000     4.300000   \n",
       "50%     875.500000     20.000000     60.000000     2.000000     4.300000   \n",
       "75%    1313.250000     20.000000     60.000000     2.000000     4.400000   \n",
       "max    1751.000000     30.000000    120.000000     3.000000     4.400000   \n",
       "\n",
       "              Price         HDMI  \n",
       "count   1752.000000  1752.000000  \n",
       "mean   28579.522260     2.658676  \n",
       "std    17149.252962     0.555276  \n",
       "min    13990.000000     2.000000  \n",
       "25%    17499.000000     2.000000  \n",
       "50%    24990.000000     3.000000  \n",
       "75%    34242.250000     3.000000  \n",
       "max    98970.000000     4.000000  "
      ]
     },
     "execution_count": 6,
     "metadata": {},
     "output_type": "execute_result"
    }
   ],
   "source": [
    "# To display the Summary stats which include count,mean,std,min,max etc\n",
    "dataset.describe()"
   ]
  },
  {
   "cell_type": "code",
   "execution_count": 7,
   "metadata": {
    "colab": {
     "base_uri": "https://localhost:8080/"
    },
    "executionInfo": {
     "elapsed": 81,
     "status": "ok",
     "timestamp": 1632898946552,
     "user": {
      "displayName": "Darshan Giri",
      "photoUrl": "https://lh3.googleusercontent.com/a/default-user=s64",
      "userId": "06256794807927158919"
     },
     "user_tz": -330
    },
    "id": "soHzrvlOamFl",
    "outputId": "c2741d25-f6c2-4f64-b7ca-d16579f80ed7"
   },
   "outputs": [
    {
     "data": {
      "text/plain": [
       "Unnamed: 0      0\n",
       "Brand           0\n",
       "Application     0\n",
       "Os              0\n",
       "Resolution      0\n",
       "Sound_Output    0\n",
       "Refresh_Rate    0\n",
       "USB             0\n",
       "Rating          0\n",
       "Price           0\n",
       "HDMI            0\n",
       "Screen_size     0\n",
       "dtype: int64"
      ]
     },
     "execution_count": 7,
     "metadata": {},
     "output_type": "execute_result"
    }
   ],
   "source": [
    "# To display how many null values are present in each column\n",
    "dataset.isnull().sum()"
   ]
  },
  {
   "cell_type": "code",
   "execution_count": null,
   "metadata": {},
   "outputs": [],
   "source": []
  },
  {
   "cell_type": "markdown",
   "metadata": {
    "id": "uFAOhEATavab"
   },
   "source": [
    "# 2. Dropping Irrelevant columns"
   ]
  },
  {
   "cell_type": "code",
   "execution_count": 8,
   "metadata": {
    "executionInfo": {
     "elapsed": 79,
     "status": "ok",
     "timestamp": 1632898946558,
     "user": {
      "displayName": "Darshan Giri",
      "photoUrl": "https://lh3.googleusercontent.com/a/default-user=s64",
      "userId": "06256794807927158919"
     },
     "user_tz": -330
    },
    "id": "VM01ZcMSawhQ"
   },
   "outputs": [],
   "source": [
    "dataset = dataset.drop(['Unnamed: 0'],axis=1 )\n"
   ]
  },
  {
   "cell_type": "code",
   "execution_count": 9,
   "metadata": {
    "colab": {
     "base_uri": "https://localhost:8080/",
     "height": 424
    },
    "executionInfo": {
     "elapsed": 79,
     "status": "ok",
     "timestamp": 1632898946560,
     "user": {
      "displayName": "Darshan Giri",
      "photoUrl": "https://lh3.googleusercontent.com/a/default-user=s64",
      "userId": "06256794807927158919"
     },
     "user_tz": -330
    },
    "id": "zXDIMc9TbEPN",
    "outputId": "6c7a4217-3e66-49d8-f625-91d8e801fdf8"
   },
   "outputs": [
    {
     "data": {
      "text/html": [
       "<div>\n",
       "<style scoped>\n",
       "    .dataframe tbody tr th:only-of-type {\n",
       "        vertical-align: middle;\n",
       "    }\n",
       "\n",
       "    .dataframe tbody tr th {\n",
       "        vertical-align: top;\n",
       "    }\n",
       "\n",
       "    .dataframe thead th {\n",
       "        text-align: right;\n",
       "    }\n",
       "</style>\n",
       "<table border=\"1\" class=\"dataframe\">\n",
       "  <thead>\n",
       "    <tr style=\"text-align: right;\">\n",
       "      <th></th>\n",
       "      <th>Brand</th>\n",
       "      <th>Application</th>\n",
       "      <th>Os</th>\n",
       "      <th>Resolution</th>\n",
       "      <th>Sound_Output</th>\n",
       "      <th>Refresh_Rate</th>\n",
       "      <th>USB</th>\n",
       "      <th>Rating</th>\n",
       "      <th>Price</th>\n",
       "      <th>HDMI</th>\n",
       "      <th>Screen_size</th>\n",
       "    </tr>\n",
       "  </thead>\n",
       "  <tbody>\n",
       "    <tr>\n",
       "      <th>0</th>\n",
       "      <td>SAMSUNG</td>\n",
       "      <td>Netflix|Disney+Hotstar|Youtube</td>\n",
       "      <td>Tizen</td>\n",
       "      <td>Ultra HD</td>\n",
       "      <td>20</td>\n",
       "      <td>120</td>\n",
       "      <td>2</td>\n",
       "      <td>4.4</td>\n",
       "      <td>98970</td>\n",
       "      <td>4</td>\n",
       "      <td>65 inch</td>\n",
       "    </tr>\n",
       "    <tr>\n",
       "      <th>1</th>\n",
       "      <td>Mi</td>\n",
       "      <td>Netflix|Prime Video|Disney+Hotstar|Youtube</td>\n",
       "      <td>Android</td>\n",
       "      <td>HD Ready</td>\n",
       "      <td>20</td>\n",
       "      <td>60</td>\n",
       "      <td>2</td>\n",
       "      <td>4.4</td>\n",
       "      <td>16999</td>\n",
       "      <td>3</td>\n",
       "      <td>32 inch</td>\n",
       "    </tr>\n",
       "    <tr>\n",
       "      <th>2</th>\n",
       "      <td>LG</td>\n",
       "      <td>Netflix|Prime Video|Disney+Hotstar|Youtube</td>\n",
       "      <td>WebOS</td>\n",
       "      <td>HD Ready</td>\n",
       "      <td>10</td>\n",
       "      <td>50</td>\n",
       "      <td>1</td>\n",
       "      <td>4.4</td>\n",
       "      <td>17999</td>\n",
       "      <td>2</td>\n",
       "      <td>32 inch</td>\n",
       "    </tr>\n",
       "    <tr>\n",
       "      <th>3</th>\n",
       "      <td>Mi</td>\n",
       "      <td>Netflix|Prime Video|Disney+Hotstar|Youtube</td>\n",
       "      <td>Android</td>\n",
       "      <td>Ultra HD</td>\n",
       "      <td>20</td>\n",
       "      <td>60</td>\n",
       "      <td>2</td>\n",
       "      <td>4.3</td>\n",
       "      <td>29999</td>\n",
       "      <td>3</td>\n",
       "      <td>43 inch</td>\n",
       "    </tr>\n",
       "    <tr>\n",
       "      <th>4</th>\n",
       "      <td>Mi</td>\n",
       "      <td>Netflix|Prime Video|Disney+Hotstar|Youtube</td>\n",
       "      <td>Android</td>\n",
       "      <td>Full HD</td>\n",
       "      <td>20</td>\n",
       "      <td>60</td>\n",
       "      <td>2</td>\n",
       "      <td>4.3</td>\n",
       "      <td>24999</td>\n",
       "      <td>3</td>\n",
       "      <td>40 inch</td>\n",
       "    </tr>\n",
       "    <tr>\n",
       "      <th>...</th>\n",
       "      <td>...</td>\n",
       "      <td>...</td>\n",
       "      <td>...</td>\n",
       "      <td>...</td>\n",
       "      <td>...</td>\n",
       "      <td>...</td>\n",
       "      <td>...</td>\n",
       "      <td>...</td>\n",
       "      <td>...</td>\n",
       "      <td>...</td>\n",
       "      <td>...</td>\n",
       "    </tr>\n",
       "    <tr>\n",
       "      <th>1747</th>\n",
       "      <td>OnePlus</td>\n",
       "      <td>Netflix|Prime Video|Disney+Hotstar|Youtube</td>\n",
       "      <td>Android</td>\n",
       "      <td>Full HD</td>\n",
       "      <td>20</td>\n",
       "      <td>60</td>\n",
       "      <td>2</td>\n",
       "      <td>4.3</td>\n",
       "      <td>29499</td>\n",
       "      <td>2</td>\n",
       "      <td>43 inch</td>\n",
       "    </tr>\n",
       "    <tr>\n",
       "      <th>1748</th>\n",
       "      <td>iFFALCON</td>\n",
       "      <td>Netflix|Disney+Hotstar|Youtube</td>\n",
       "      <td>Android</td>\n",
       "      <td>Ultra HD</td>\n",
       "      <td>30</td>\n",
       "      <td>60</td>\n",
       "      <td>2</td>\n",
       "      <td>4.3</td>\n",
       "      <td>36999</td>\n",
       "      <td>3</td>\n",
       "      <td>55 inch</td>\n",
       "    </tr>\n",
       "    <tr>\n",
       "      <th>1749</th>\n",
       "      <td>TCL</td>\n",
       "      <td>Netflix|Disney+Hotstar|Youtube</td>\n",
       "      <td>Android</td>\n",
       "      <td>HD Ready</td>\n",
       "      <td>20</td>\n",
       "      <td>60</td>\n",
       "      <td>1</td>\n",
       "      <td>4.2</td>\n",
       "      <td>16499</td>\n",
       "      <td>2</td>\n",
       "      <td>32 inch</td>\n",
       "    </tr>\n",
       "    <tr>\n",
       "      <th>1750</th>\n",
       "      <td>SAMSUNG</td>\n",
       "      <td>Netflix|Disney+Hotstar|Youtube</td>\n",
       "      <td>Tizen</td>\n",
       "      <td>Full HD</td>\n",
       "      <td>20</td>\n",
       "      <td>60</td>\n",
       "      <td>1</td>\n",
       "      <td>4.4</td>\n",
       "      <td>32990</td>\n",
       "      <td>2</td>\n",
       "      <td>43 inch</td>\n",
       "    </tr>\n",
       "    <tr>\n",
       "      <th>1751</th>\n",
       "      <td>Thomson</td>\n",
       "      <td>Prime Video|Disney+Hotstar|Youtube</td>\n",
       "      <td>Android</td>\n",
       "      <td>HD Ready</td>\n",
       "      <td>24</td>\n",
       "      <td>60</td>\n",
       "      <td>2</td>\n",
       "      <td>4.4</td>\n",
       "      <td>14499</td>\n",
       "      <td>3</td>\n",
       "      <td>32 inch</td>\n",
       "    </tr>\n",
       "  </tbody>\n",
       "</table>\n",
       "<p>1752 rows × 11 columns</p>\n",
       "</div>"
      ],
      "text/plain": [
       "         Brand                                 Application       Os  \\\n",
       "0      SAMSUNG              Netflix|Disney+Hotstar|Youtube    Tizen   \n",
       "1           Mi  Netflix|Prime Video|Disney+Hotstar|Youtube  Android   \n",
       "2           LG  Netflix|Prime Video|Disney+Hotstar|Youtube    WebOS   \n",
       "3           Mi  Netflix|Prime Video|Disney+Hotstar|Youtube  Android   \n",
       "4           Mi  Netflix|Prime Video|Disney+Hotstar|Youtube  Android   \n",
       "...        ...                                         ...      ...   \n",
       "1747   OnePlus  Netflix|Prime Video|Disney+Hotstar|Youtube  Android   \n",
       "1748  iFFALCON              Netflix|Disney+Hotstar|Youtube  Android   \n",
       "1749       TCL              Netflix|Disney+Hotstar|Youtube  Android   \n",
       "1750   SAMSUNG              Netflix|Disney+Hotstar|Youtube    Tizen   \n",
       "1751   Thomson          Prime Video|Disney+Hotstar|Youtube  Android   \n",
       "\n",
       "     Resolution  Sound_Output  Refresh_Rate  USB  Rating  Price  HDMI  \\\n",
       "0      Ultra HD            20           120    2     4.4  98970     4   \n",
       "1      HD Ready            20            60    2     4.4  16999     3   \n",
       "2      HD Ready            10            50    1     4.4  17999     2   \n",
       "3      Ultra HD            20            60    2     4.3  29999     3   \n",
       "4      Full HD             20            60    2     4.3  24999     3   \n",
       "...         ...           ...           ...  ...     ...    ...   ...   \n",
       "1747   Full HD             20            60    2     4.3  29499     2   \n",
       "1748   Ultra HD            30            60    2     4.3  36999     3   \n",
       "1749   HD Ready            20            60    1     4.2  16499     2   \n",
       "1750   Full HD             20            60    1     4.4  32990     2   \n",
       "1751   HD Ready            24            60    2     4.4  14499     3   \n",
       "\n",
       "     Screen_size  \n",
       "0        65 inch  \n",
       "1        32 inch  \n",
       "2        32 inch  \n",
       "3        43 inch  \n",
       "4        40 inch  \n",
       "...          ...  \n",
       "1747     43 inch  \n",
       "1748     55 inch  \n",
       "1749     32 inch  \n",
       "1750     43 inch  \n",
       "1751     32 inch  \n",
       "\n",
       "[1752 rows x 11 columns]"
      ]
     },
     "execution_count": 9,
     "metadata": {},
     "output_type": "execute_result"
    }
   ],
   "source": [
    "dataset"
   ]
  },
  {
   "cell_type": "markdown",
   "metadata": {
    "id": "QAJFYrh_bZ0j"
   },
   "source": [
    "# 3.Detecting Outliers"
   ]
  },
  {
   "cell_type": "markdown",
   "metadata": {
    "id": "9ATxOsxkbk1p"
   },
   "source": [
    "An outlier is a points that are different from other points.Sometimes they can be very high or low.It's often a good idea to detect and remove outliers.Because outliers are one of the primary reasons for resulting in a less accurate model.Often outliers can be seen with visualizations using a boxplot.Shown below are the box plot of Rating,Price etc.Herein all the plots,you can find some points are outside the box they are none other than outliers."
   ]
  },
  {
   "cell_type": "code",
   "execution_count": 10,
   "metadata": {
    "colab": {
     "base_uri": "https://localhost:8080/",
     "height": 0
    },
    "executionInfo": {
     "elapsed": 78,
     "status": "ok",
     "timestamp": 1632898946562,
     "user": {
      "displayName": "Darshan Giri",
      "photoUrl": "https://lh3.googleusercontent.com/a/default-user=s64",
      "userId": "06256794807927158919"
     },
     "user_tz": -330
    },
    "id": "A3RcbPqBbkGC",
    "outputId": "e0daabd1-ccf4-40d2-a4ae-5c337e373c28"
   },
   "outputs": [
    {
     "data": {
      "image/png": "[encoded data removed]",
      "text/plain": [
       "<Figure size 432x288 with 1 Axes>"
      ]
     },
     "metadata": {
      "needs_background": "light"
     },
     "output_type": "display_data"
    }
   ],
   "source": [
    "# Boxplot of price column\n",
    "sns.boxplot(x=dataset['Price']);"
   ]
  },
  {
   "cell_type": "code",
   "execution_count": 11,
   "metadata": {
    "colab": {
     "base_uri": "https://localhost:8080/",
     "height": 0
    },
    "executionInfo": {
     "elapsed": 874,
     "status": "ok",
     "timestamp": 1632898947362,
     "user": {
      "displayName": "Darshan Giri",
      "photoUrl": "https://lh3.googleusercontent.com/a/default-user=s64",
      "userId": "06256794807927158919"
     },
     "user_tz": -330
    },
    "id": "wcjpMa_Fb0cm",
    "outputId": "42675689-b5ed-4308-fa1c-1fd506d10d5e"
   },
   "outputs": [
    {
     "data": {
      "image/png": "[encoded data removed]",
      "text/plain": [
       "<Figure size 432x288 with 1 Axes>"
      ]
     },
     "metadata": {
      "needs_background": "light"
     },
     "output_type": "display_data"
    }
   ],
   "source": [
    "# Boxplot of Rating column\n",
    "sns.boxplot(x=dataset['Rating']);"
   ]
  },
  {
   "cell_type": "code",
   "execution_count": 12,
   "metadata": {
    "colab": {
     "base_uri": "https://localhost:8080/",
     "height": 0
    },
    "executionInfo": {
     "elapsed": 29,
     "status": "ok",
     "timestamp": 1632898947364,
     "user": {
      "displayName": "Darshan Giri",
      "photoUrl": "https://lh3.googleusercontent.com/a/default-user=s64",
      "userId": "06256794807927158919"
     },
     "user_tz": -330
    },
    "id": "JbhdocfRb0Sj",
    "outputId": "0a8a88d2-5304-4e0a-c180-0ec51963deee"
   },
   "outputs": [
    {
     "data": {
      "image/png": "[encoded data removed]",
      "text/plain": [
       "<Figure size 432x288 with 1 Axes>"
      ]
     },
     "metadata": {
      "needs_background": "light"
     },
     "output_type": "display_data"
    }
   ],
   "source": [
    "# Boxplot of Sound_Output column\n",
    "sns.boxplot(x=dataset['Sound_Output']);"
   ]
  },
  {
   "cell_type": "code",
   "execution_count": 13,
   "metadata": {
    "colab": {
     "base_uri": "https://localhost:8080/",
     "height": 0
    },
    "executionInfo": {
     "elapsed": 29,
     "status": "ok",
     "timestamp": 1632898947365,
     "user": {
      "displayName": "Darshan Giri",
      "photoUrl": "https://lh3.googleusercontent.com/a/default-user=s64",
      "userId": "06256794807927158919"
     },
     "user_tz": -330
    },
    "id": "-XlB5wdob0Ig",
    "outputId": "019eb24b-5e3c-43a4-890d-24ce6024a84d"
   },
   "outputs": [
    {
     "data": {
      "image/png": "[encoded data removed]",
      "text/plain": [
       "<Figure size 432x288 with 1 Axes>"
      ]
     },
     "metadata": {
      "needs_background": "light"
     },
     "output_type": "display_data"
    }
   ],
   "source": [
    "# Boxplot of Refresh_Rate\t column\n",
    "sns.boxplot(x=dataset['Refresh_Rate']);"
   ]
  },
  {
   "cell_type": "code",
   "execution_count": 14,
   "metadata": {
    "colab": {
     "base_uri": "https://localhost:8080/",
     "height": 0
    },
    "executionInfo": {
     "elapsed": 26,
     "status": "ok",
     "timestamp": 1632898947366,
     "user": {
      "displayName": "Darshan Giri",
      "photoUrl": "https://lh3.googleusercontent.com/a/default-user=s64",
      "userId": "06256794807927158919"
     },
     "user_tz": -330
    },
    "id": "uuYPrJXnb7dX",
    "outputId": "b8a6b6aa-265f-4163-d854-97eec626d68b"
   },
   "outputs": [
    {
     "data": {
      "image/png": "[encoded data removed]",
      "text/plain": [
       "<Figure size 432x288 with 1 Axes>"
      ]
     },
     "metadata": {
      "needs_background": "light"
     },
     "output_type": "display_data"
    }
   ],
   "source": [
    "# Boxplot of HDMI\t column\n",
    "sns.boxplot(x=dataset['HDMI']);"
   ]
  },
  {
   "cell_type": "code",
   "execution_count": 15,
   "metadata": {
    "colab": {
     "base_uri": "https://localhost:8080/",
     "height": 0
    },
    "executionInfo": {
     "elapsed": 26,
     "status": "ok",
     "timestamp": 1632898947367,
     "user": {
      "displayName": "Darshan Giri",
      "photoUrl": "https://lh3.googleusercontent.com/a/default-user=s64",
      "userId": "06256794807927158919"
     },
     "user_tz": -330
    },
    "id": "scVkcTNccCUS",
    "outputId": "268ebc58-dddd-42aa-a1e7-0f3ca3f6c7bd"
   },
   "outputs": [
    {
     "data": {
      "image/png": "[encoded data removed]",
      "text/plain": [
       "<Figure size 432x288 with 1 Axes>"
      ]
     },
     "metadata": {
      "needs_background": "light"
     },
     "output_type": "display_data"
    }
   ],
   "source": [
    "# Boxplot of USB\t column\n",
    "sns.boxplot(x=dataset['USB']);"
   ]
  },
  {
   "cell_type": "code",
   "execution_count": 16,
   "metadata": {
    "colab": {
     "base_uri": "https://localhost:8080/"
    },
    "executionInfo": {
     "elapsed": 27,
     "status": "ok",
     "timestamp": 1632898947369,
     "user": {
      "displayName": "Darshan Giri",
      "photoUrl": "https://lh3.googleusercontent.com/a/default-user=s64",
      "userId": "06256794807927158919"
     },
     "user_tz": -330
    },
    "id": "GqqnGVMCcIX5",
    "outputId": "5e056167-aa80-4e7d-d1d5-817b7b5c2404"
   },
   "outputs": [
    {
     "name": "stdout",
     "output_type": "stream",
     "text": [
      "Sound_Output        0.00\n",
      "Refresh_Rate        0.00\n",
      "USB                 0.00\n",
      "Rating              0.10\n",
      "Price           16743.25\n",
      "HDMI                1.00\n",
      "dtype: float64\n"
     ]
    }
   ],
   "source": [
    "# To find the interquantile range of each column\n",
    "Q1 = dataset.quantile(0.25)\n",
    "Q3 = dataset.quantile(0.75)\n",
    "IQR = Q3 - Q1\n",
    "print(IQR)"
   ]
  },
  {
   "cell_type": "markdown",
   "metadata": {
    "id": "gscauYFvcU0V"
   },
   "source": [
    "# 4.What are the most represented TV brands?\n"
   ]
  },
  {
   "cell_type": "code",
   "execution_count": 17,
   "metadata": {
    "colab": {
     "base_uri": "https://localhost:8080/",
     "height": 0
    },
    "executionInfo": {
     "elapsed": 27,
     "status": "ok",
     "timestamp": 1632898947371,
     "user": {
      "displayName": "Darshan Giri",
      "photoUrl": "https://lh3.googleusercontent.com/a/default-user=s64",
      "userId": "06256794807927158919"
     },
     "user_tz": -330
    },
    "id": "NW9Y_oTucYyq",
    "outputId": "b356df13-d907-48fd-8e4a-a64a7ae3c3a0"
   },
   "outputs": [
    {
     "data": {
      "image/png": "[encoded data removed]",
      "text/plain": [
       "<Figure size 720x360 with 1 Axes>"
      ]
     },
     "metadata": {
      "needs_background": "light"
     },
     "output_type": "display_data"
    }
   ],
   "source": [
    "# To display top 10 TV brands\n",
    "counts = dataset['Brand'].value_counts()* 100/sum(dataset['Brand'].value_counts())\n",
    "popular_labels = counts.index[:10]\n",
    "plt.figure(figsize=(10,5))\n",
    "plt.barh(popular_labels,width=counts[:10])\n",
    "plt.title('Top 10 TV Brands')\n",
    "plt.show()"
   ]
  },
  {
   "cell_type": "markdown",
   "metadata": {
    "id": "G_1gMbg3cu_n"
   },
   "source": [
    "# 4.1 Average price amoung the top TV brands"
   ]
  },
  {
   "cell_type": "code",
   "execution_count": 18,
   "metadata": {
    "colab": {
     "base_uri": "https://localhost:8080/",
     "height": 0
    },
    "executionInfo": {
     "elapsed": 1353,
     "status": "ok",
     "timestamp": 1632898948698,
     "user": {
      "displayName": "Darshan Giri",
      "photoUrl": "https://lh3.googleusercontent.com/a/default-user=s64",
      "userId": "06256794807927158919"
     },
     "user_tz": -330
    },
    "id": "F7c1R8zoc0SI",
    "outputId": "b695b9ac-e9e0-4045-d994-0800901288e8"
   },
   "outputs": [
    {
     "data": {
      "text/html": [
       "<div>\n",
       "<style scoped>\n",
       "    .dataframe tbody tr th:only-of-type {\n",
       "        vertical-align: middle;\n",
       "    }\n",
       "\n",
       "    .dataframe tbody tr th {\n",
       "        vertical-align: top;\n",
       "    }\n",
       "\n",
       "    .dataframe thead th {\n",
       "        text-align: right;\n",
       "    }\n",
       "</style>\n",
       "<table border=\"1\" class=\"dataframe\">\n",
       "  <thead>\n",
       "    <tr style=\"text-align: right;\">\n",
       "      <th></th>\n",
       "      <th>Price</th>\n",
       "    </tr>\n",
       "    <tr>\n",
       "      <th>Brand</th>\n",
       "      <th></th>\n",
       "    </tr>\n",
       "  </thead>\n",
       "  <tbody>\n",
       "    <tr>\n",
       "      <th>KODAK</th>\n",
       "      <td>13990.000000</td>\n",
       "    </tr>\n",
       "    <tr>\n",
       "      <th>LG</th>\n",
       "      <td>30326.333333</td>\n",
       "    </tr>\n",
       "    <tr>\n",
       "      <th>Mi</th>\n",
       "      <td>26832.333333</td>\n",
       "    </tr>\n",
       "    <tr>\n",
       "      <th>OnePlus</th>\n",
       "      <td>24249.000000</td>\n",
       "    </tr>\n",
       "    <tr>\n",
       "      <th>SAMSUNG</th>\n",
       "      <td>52386.062176</td>\n",
       "    </tr>\n",
       "    <tr>\n",
       "      <th>TCL</th>\n",
       "      <td>26009.563380</td>\n",
       "    </tr>\n",
       "    <tr>\n",
       "      <th>TOSHIBA</th>\n",
       "      <td>24990.000000</td>\n",
       "    </tr>\n",
       "    <tr>\n",
       "      <th>Thomson</th>\n",
       "      <td>14499.000000</td>\n",
       "    </tr>\n",
       "    <tr>\n",
       "      <th>iFFALCON</th>\n",
       "      <td>36999.000000</td>\n",
       "    </tr>\n",
       "    <tr>\n",
       "      <th>realme</th>\n",
       "      <td>16999.000000</td>\n",
       "    </tr>\n",
       "  </tbody>\n",
       "</table>\n",
       "</div>"
      ],
      "text/plain": [
       "                 Price\n",
       "Brand                 \n",
       "KODAK     13990.000000\n",
       "LG        30326.333333\n",
       "Mi        26832.333333\n",
       "OnePlus   24249.000000\n",
       "SAMSUNG   52386.062176\n",
       "TCL       26009.563380\n",
       "TOSHIBA   24990.000000\n",
       "Thomson   14499.000000\n",
       "iFFALCON  36999.000000\n",
       "realme    16999.000000"
      ]
     },
     "execution_count": 18,
     "metadata": {},
     "output_type": "execute_result"
    }
   ],
   "source": [
    "# To display average price amoung the top TV brands\n",
    "price = dataset[['Brand','Price']].loc[(dataset['Brand'] == 'SAMSUNG') | (dataset['Brand'] == 'Mi') | (dataset['Brand'] == 'OnePlus') | (dataset['Brand'] == 'Thomson') | (dataset['Brand'] == 'iFFALCON') | (dataset['Brand'] == 'KODAK') | (dataset['Brand'] == 'TOSHIBA') | (dataset['Brand'] == 'realme') | (dataset['Brand'] == 'TCL') | (dataset['Brand'] == 'LG')].groupby('Brand').mean()\n",
    "price"
   ]
  },
  {
   "cell_type": "markdown",
   "metadata": {
    "id": "b9owgVTHeAlf"
   },
   "source": [
    "# 5. Correlation matrix"
   ]
  },
  {
   "cell_type": "code",
   "execution_count": 19,
   "metadata": {
    "colab": {
     "base_uri": "https://localhost:8080/",
     "height": 0
    },
    "executionInfo": {
     "elapsed": 51,
     "status": "ok",
     "timestamp": 1632898948700,
     "user": {
      "displayName": "Darshan Giri",
      "photoUrl": "https://lh3.googleusercontent.com/a/default-user=s64",
      "userId": "06256794807927158919"
     },
     "user_tz": -330
    },
    "id": "SqN8mur1eCM6",
    "outputId": "6de9695e-cb02-4e5b-a79a-dd5f0f93a4b1"
   },
   "outputs": [
    {
     "data": {
      "text/html": [
       "<div>\n",
       "<style scoped>\n",
       "    .dataframe tbody tr th:only-of-type {\n",
       "        vertical-align: middle;\n",
       "    }\n",
       "\n",
       "    .dataframe tbody tr th {\n",
       "        vertical-align: top;\n",
       "    }\n",
       "\n",
       "    .dataframe thead th {\n",
       "        text-align: right;\n",
       "    }\n",
       "</style>\n",
       "<table border=\"1\" class=\"dataframe\">\n",
       "  <thead>\n",
       "    <tr style=\"text-align: right;\">\n",
       "      <th></th>\n",
       "      <th>Sound_Output</th>\n",
       "      <th>Refresh_Rate</th>\n",
       "      <th>USB</th>\n",
       "      <th>Rating</th>\n",
       "      <th>Price</th>\n",
       "      <th>HDMI</th>\n",
       "    </tr>\n",
       "  </thead>\n",
       "  <tbody>\n",
       "    <tr>\n",
       "      <th>Sound_Output</th>\n",
       "      <td>1.000000</td>\n",
       "      <td>0.051860</td>\n",
       "      <td>0.339216</td>\n",
       "      <td>-0.102796</td>\n",
       "      <td>0.058361</td>\n",
       "      <td>0.293834</td>\n",
       "    </tr>\n",
       "    <tr>\n",
       "      <th>Refresh_Rate</th>\n",
       "      <td>0.051860</td>\n",
       "      <td>1.000000</td>\n",
       "      <td>0.189341</td>\n",
       "      <td>0.138564</td>\n",
       "      <td>0.833056</td>\n",
       "      <td>0.563615</td>\n",
       "    </tr>\n",
       "    <tr>\n",
       "      <th>USB</th>\n",
       "      <td>0.339216</td>\n",
       "      <td>0.189341</td>\n",
       "      <td>1.000000</td>\n",
       "      <td>0.013362</td>\n",
       "      <td>0.060020</td>\n",
       "      <td>0.618940</td>\n",
       "    </tr>\n",
       "    <tr>\n",
       "      <th>Rating</th>\n",
       "      <td>-0.102796</td>\n",
       "      <td>0.138564</td>\n",
       "      <td>0.013362</td>\n",
       "      <td>1.000000</td>\n",
       "      <td>0.218241</td>\n",
       "      <td>0.187281</td>\n",
       "    </tr>\n",
       "    <tr>\n",
       "      <th>Price</th>\n",
       "      <td>0.058361</td>\n",
       "      <td>0.833056</td>\n",
       "      <td>0.060020</td>\n",
       "      <td>0.218241</td>\n",
       "      <td>1.000000</td>\n",
       "      <td>0.448074</td>\n",
       "    </tr>\n",
       "    <tr>\n",
       "      <th>HDMI</th>\n",
       "      <td>0.293834</td>\n",
       "      <td>0.563615</td>\n",
       "      <td>0.618940</td>\n",
       "      <td>0.187281</td>\n",
       "      <td>0.448074</td>\n",
       "      <td>1.000000</td>\n",
       "    </tr>\n",
       "  </tbody>\n",
       "</table>\n",
       "</div>"
      ],
      "text/plain": [
       "              Sound_Output  Refresh_Rate       USB    Rating     Price  \\\n",
       "Sound_Output      1.000000      0.051860  0.339216 -0.102796  0.058361   \n",
       "Refresh_Rate      0.051860      1.000000  0.189341  0.138564  0.833056   \n",
       "USB               0.339216      0.189341  1.000000  0.013362  0.060020   \n",
       "Rating           -0.102796      0.138564  0.013362  1.000000  0.218241   \n",
       "Price             0.058361      0.833056  0.060020  0.218241  1.000000   \n",
       "HDMI              0.293834      0.563615  0.618940  0.187281  0.448074   \n",
       "\n",
       "                  HDMI  \n",
       "Sound_Output  0.293834  \n",
       "Refresh_Rate  0.563615  \n",
       "USB           0.618940  \n",
       "Rating        0.187281  \n",
       "Price         0.448074  \n",
       "HDMI          1.000000  "
      ]
     },
     "execution_count": 19,
     "metadata": {},
     "output_type": "execute_result"
    }
   ],
   "source": [
    "# To display how one variable correlate with other variable\n",
    "dataset.corr()"
   ]
  },
  {
   "cell_type": "markdown",
   "metadata": {
    "id": "kLPTbmBIFtH3"
   },
   "source": [
    "# 5.1 High anticorrelation  "
   ]
  },
  {
   "cell_type": "code",
   "execution_count": 20,
   "metadata": {
    "colab": {
     "base_uri": "https://localhost:8080/",
     "height": 0
    },
    "executionInfo": {
     "elapsed": 46,
     "status": "ok",
     "timestamp": 1632898948703,
     "user": {
      "displayName": "Darshan Giri",
      "photoUrl": "https://lh3.googleusercontent.com/a/default-user=s64",
      "userId": "06256794807927158919"
     },
     "user_tz": -330
    },
    "id": "5wIZWdPDFynL",
    "outputId": "c5340a7d-070b-4764-b94e-449d042c6397"
   },
   "outputs": [
    {
     "data": {
      "text/plain": [
       "<AxesSubplot:>"
      ]
     },
     "execution_count": 20,
     "metadata": {},
     "output_type": "execute_result"
    },
    {
     "data": {
      "image/png": "[encoded data removed]",
      "text/plain": [
       "<Figure size 720x360 with 2 Axes>"
      ]
     },
     "metadata": {
      "needs_background": "light"
     },
     "output_type": "display_data"
    }
   ],
   "source": [
    "# Displaying the correlation between variable using heatmap\n",
    "plt.figure(figsize=(10,5))\n",
    "c = dataset.corr()\n",
    "sns.heatmap(c,cmap=\"BrBG\",annot=True)"
   ]
  },
  {
   "cell_type": "markdown",
   "metadata": {
    "id": "3osFS_G1Grzy"
   },
   "source": [
    "# 6.Plotting Different Graphs"
   ]
  },
  {
   "cell_type": "code",
   "execution_count": 21,
   "metadata": {
    "colab": {
     "base_uri": "https://localhost:8080/",
     "height": 0
    },
    "executionInfo": {
     "elapsed": 39,
     "status": "ok",
     "timestamp": 1632898948705,
     "user": {
      "displayName": "Darshan Giri",
      "photoUrl": "https://lh3.googleusercontent.com/a/default-user=s64",
      "userId": "06256794807927158919"
     },
     "user_tz": -330
    },
    "id": "3qC6yqDvGxaS",
    "outputId": "1dccd274-076b-4bb6-a37e-dd88c826d58d"
   },
   "outputs": [
    {
     "data": {
      "text/plain": [
       "Text(0.5, 0, 'Os')"
      ]
     },
     "execution_count": 21,
     "metadata": {},
     "output_type": "execute_result"
    },
    {
     "data": {
      "image/png": "[encoded data removed]",
      "text/plain": [
       "<Figure size 720x432 with 1 Axes>"
      ]
     },
     "metadata": {
      "needs_background": "light"
     },
     "output_type": "display_data"
    }
   ],
   "source": [
    "# To display the which Os type tv sold most or least\n",
    "dataset['Os'].value_counts().plot.bar(figsize=(10,6))\n",
    "plt.title(\"tv sold by body\")\n",
    "plt.ylabel(\"Number of tv\")\n",
    "plt.xlabel(\"Os\")"
   ]
  },
  {
   "cell_type": "markdown",
   "metadata": {
    "id": "o6CBU1TsHCW7"
   },
   "source": [
    "From the above chart we can see that Android TV sold more"
   ]
  },
  {
   "cell_type": "code",
   "execution_count": 23,
   "metadata": {
    "colab": {
     "base_uri": "https://localhost:8080/",
     "height": 0
    },
    "executionInfo": {
     "elapsed": 1211,
     "status": "ok",
     "timestamp": 1632898949884,
     "user": {
      "displayName": "Darshan Giri",
      "photoUrl": "https://lh3.googleusercontent.com/a/default-user=s64",
      "userId": "06256794807927158919"
     },
     "user_tz": -330
    },
    "id": "dkT4culpHMpw",
    "outputId": "b5d47f50-dc31-4f41-b4ff-d7d2a58dfecb"
   },
   "outputs": [
    {
     "data": {
      "text/plain": [
       "Text(0.5, 0, 'Body size')"
      ]
     },
     "execution_count": 23,
     "metadata": {},
     "output_type": "execute_result"
    },
    {
     "data": {
      "image/png": "[encoded data removed]",
      "text/plain": [
       "<Figure size 720x432 with 1 Axes>"
      ]
     },
     "metadata": {
      "needs_background": "light"
     },
     "output_type": "display_data"
    }
   ],
   "source": [
    "# To display the which size segment tv sold most or least\n",
    "dataset['Screen_size'].value_counts().plot.bar(figsize=(10,6))\n",
    "plt.title(\"tv sold by body\")\n",
    "plt.ylabel(\"Number of tv\")\n",
    "plt.xlabel(\"Body size\")"
   ]
  },
  {
   "cell_type": "markdown",
   "metadata": {
    "id": "pJVG6pDEHYh4"
   },
   "source": [
    "From the above chart we can see that 32 inch size TV are sold more"
   ]
  },
  {
   "cell_type": "code",
   "execution_count": 24,
   "metadata": {},
   "outputs": [
    {
     "name": "stderr",
     "output_type": "stream",
     "text": [
      "C:\\Anaconda3\\lib\\site-packages\\seaborn\\distributions.py:2557: FutureWarning: `distplot` is a deprecated function and will be removed in a future version. Please adapt your code to use either `displot` (a figure-level function with similar flexibility) or `histplot` (an axes-level function for histograms).\n",
      "  warnings.warn(msg, FutureWarning)\n"
     ]
    },
    {
     "data": {
      "image/png": "[encoded data removed]",
      "text/plain": [
       "<Figure size 1080x576 with 1 Axes>"
      ]
     },
     "metadata": {
      "needs_background": "light"
     },
     "output_type": "display_data"
    }
   ],
   "source": [
    "plt.figure(figsize=(15,8))\n",
    "sns.distplot(dataset['Price'])\n",
    "plt.show()"
   ]
  },
  {
   "cell_type": "markdown",
   "metadata": {},
   "source": [
    "From the above Chart we can see that The probability price distribution with its tail on the right side is a positively skewed distribution"
   ]
  },
  {
   "cell_type": "code",
   "execution_count": 25,
   "metadata": {
    "colab": {
     "base_uri": "https://localhost:8080/",
     "height": 0
    },
    "executionInfo": {
     "elapsed": 63,
     "status": "ok",
     "timestamp": 1632898949887,
     "user": {
      "displayName": "Darshan Giri",
      "photoUrl": "https://lh3.googleusercontent.com/a/default-user=s64",
      "userId": "06256794807927158919"
     },
     "user_tz": -330
    },
    "id": "24YOJgelHYBf",
    "outputId": "ccae335b-40e6-42d3-94db-10959462b5a2"
   },
   "outputs": [
    {
     "data": {
      "text/plain": [
       "Text(0.5, 0, 'Body type')"
      ]
     },
     "execution_count": 25,
     "metadata": {},
     "output_type": "execute_result"
    },
    {
     "data": {
      "image/png": "[encoded data removed]",
      "text/plain": [
       "<Figure size 720x432 with 1 Axes>"
      ]
     },
     "metadata": {
      "needs_background": "light"
     },
     "output_type": "display_data"
    }
   ],
   "source": [
    "# To display the which Resolution tv sold most or least\n",
    "dataset['Resolution'].value_counts().plot.bar(figsize=(10,6))\n",
    "plt.title(\"tv sold by body\")\n",
    "plt.ylabel(\"Number of tv\")\n",
    "plt.xlabel(\"Body type\")"
   ]
  },
  {
   "cell_type": "markdown",
   "metadata": {
    "id": "-h2smfqWH6CZ"
   },
   "source": [
    "From the above chart we can see that HD Ready Resolution TV are sold more"
   ]
  },
  {
   "cell_type": "code",
   "execution_count": 26,
   "metadata": {
    "colab": {
     "base_uri": "https://localhost:8080/",
     "height": 0
    },
    "executionInfo": {
     "elapsed": 58,
     "status": "ok",
     "timestamp": 1632898949889,
     "user": {
      "displayName": "Darshan Giri",
      "photoUrl": "https://lh3.googleusercontent.com/a/default-user=s64",
      "userId": "06256794807927158919"
     },
     "user_tz": -330
    },
    "id": "ElQ2W8zaIMO5",
    "outputId": "a09bf6f1-4cc5-4243-871a-76ac3ca7e3a5"
   },
   "outputs": [
    {
     "name": "stderr",
     "output_type": "stream",
     "text": [
      "C:\\Anaconda3\\lib\\site-packages\\seaborn\\_decorators.py:36: FutureWarning: Pass the following variables as keyword args: x, y. From version 0.12, the only valid positional argument will be `data`, and passing other arguments without an explicit keyword will result in an error or misinterpretation.\n",
      "  warnings.warn(\n"
     ]
    },
    {
     "data": {
      "image/png": "[encoded data removed]",
      "text/plain": [
       "<Figure size 864x432 with 1 Axes>"
      ]
     },
     "metadata": {
      "needs_background": "light"
     },
     "output_type": "display_data"
    }
   ],
   "source": [
    "# Plotting price vs rating using barplot\n",
    "plt.figure(figsize=(12,6))\n",
    "sns.barplot(dataset['Price'],dataset['Brand']);"
   ]
  },
  {
   "cell_type": "markdown",
   "metadata": {
    "id": "O7l3iUa_It8M"
   },
   "source": [
    "From the above chart we can see that SAMSUNG has most expensive TV in the Market "
   ]
  },
  {
   "cell_type": "code",
   "execution_count": 27,
   "metadata": {
    "colab": {
     "base_uri": "https://localhost:8080/",
     "height": 0
    },
    "executionInfo": {
     "elapsed": 50,
     "status": "ok",
     "timestamp": 1632898949891,
     "user": {
      "displayName": "Darshan Giri",
      "photoUrl": "https://lh3.googleusercontent.com/a/default-user=s64",
      "userId": "06256794807927158919"
     },
     "user_tz": -330
    },
    "id": "VkUMudYrJDSJ",
    "outputId": "fa6b59de-951a-4501-c03a-19e7635431e6"
   },
   "outputs": [
    {
     "name": "stderr",
     "output_type": "stream",
     "text": [
      "C:\\Anaconda3\\lib\\site-packages\\seaborn\\_decorators.py:36: FutureWarning: Pass the following variables as keyword args: x, y. From version 0.12, the only valid positional argument will be `data`, and passing other arguments without an explicit keyword will result in an error or misinterpretation.\n",
      "  warnings.warn(\n"
     ]
    },
    {
     "data": {
      "image/png": "[encoded data removed]",
      "text/plain": [
       "<Figure size 864x432 with 1 Axes>"
      ]
     },
     "metadata": {
      "needs_background": "light"
     },
     "output_type": "display_data"
    }
   ],
   "source": [
    "# Plotting price vs Resolution using barplot\n",
    "plt.figure(figsize=(12,6))\n",
    "sns.barplot(dataset['Price'],dataset['Resolution']);"
   ]
  },
  {
   "cell_type": "markdown",
   "metadata": {
    "id": "3Uwu1hbAJC1E"
   },
   "source": [
    "From the above chart we can see that Ultra HD TV is the most expensive and HD Ready is the less expensive "
   ]
  },
  {
   "cell_type": "code",
   "execution_count": 28,
   "metadata": {},
   "outputs": [
    {
     "data": {
      "text/plain": [
       "<seaborn.axisgrid.PairGrid at 0x18a27e502b0>"
      ]
     },
     "execution_count": 28,
     "metadata": {},
     "output_type": "execute_result"
    },
    {
     "data": {
      "image/png": "[encoded data removed]",
      "text/plain": [
       "<Figure size 1080x1080 with 42 Axes>"
      ]
     },
     "metadata": {
      "needs_background": "light"
     },
     "output_type": "display_data"
    }
   ],
   "source": [
    "sns.pairplot(dataset)"
   ]
  },
  {
   "cell_type": "markdown",
   "metadata": {
    "id": "4EZWwJm4J2pY"
   },
   "source": [
    "# 7. Making a New group 'Price_group'"
   ]
  },
  {
   "cell_type": "code",
   "execution_count": 31,
   "metadata": {
    "executionInfo": {
     "elapsed": 51,
     "status": "ok",
     "timestamp": 1632898949897,
     "user": {
      "displayName": "Darshan Giri",
      "photoUrl": "https://lh3.googleusercontent.com/a/default-user=s64",
      "userId": "06256794807927158919"
     },
     "user_tz": -330
    },
    "id": "egikQTpAJtf_"
   },
   "outputs": [],
   "source": [
    "# Create a new column price_group and assign the value based on tv price\n",
    "dataset['price_group'] = pd.cut(dataset['Price'],[0,20000,40000,60000,80000,100000,600000],labels=['<20K','20-39K','40-59K','60-79K','80-99K','>100K'],include_lowest = True)\n",
    "dataset['price_group'] =dataset['price_group'].astype(object)"
   ]
  },
  {
   "cell_type": "code",
   "execution_count": 30,
   "metadata": {
    "colab": {
     "base_uri": "https://localhost:8080/",
     "height": 0
    },
    "executionInfo": {
     "elapsed": 722,
     "status": "ok",
     "timestamp": 1632898950570,
     "user": {
      "displayName": "Darshan Giri",
      "photoUrl": "https://lh3.googleusercontent.com/a/default-user=s64",
      "userId": "06256794807927158919"
     },
     "user_tz": -330
    },
    "id": "WavBFn8_KA03",
    "outputId": "8ffff4f3-73c3-410f-829f-6f7babdebe02"
   },
   "outputs": [
    {
     "data": {
      "text/plain": [
       "Text(0.5, 0, 'Price Group')"
      ]
     },
     "execution_count": 30,
     "metadata": {},
     "output_type": "execute_result"
    },
    {
     "data": {
      "image/png": "[encoded data removed]",
      "text/plain": [
       "<Figure size 720x432 with 1 Axes>"
      ]
     },
     "metadata": {
      "needs_background": "light"
     },
     "output_type": "display_data"
    }
   ],
   "source": [
    "(dataset['price_group'].value_counts() / len(dataset) * 100).plot.bar(figsize=(10,6))\n",
    "plt.title(\"Price group bar diagram\")\n",
    "plt.ylabel(\"% of tv\")\n",
    "plt.xlabel(\"Price Group\")\n"
   ]
  },
  {
   "cell_type": "code",
   "execution_count": null,
   "metadata": {},
   "outputs": [],
   "source": []
  }
 ],
 "metadata": {
  "colab": {
   "authorship_tag": "ABX9TyNhg//o3LsumoNQ385KAo2K",
   "collapsed_sections": [
    "agec9yTaWrNh",
    "6dkPcyiwaTKH",
    "uFAOhEATavab",
    "QAJFYrh_bZ0j",
    "gscauYFvcU0V",
    "G_1gMbg3cu_n",
    "b9owgVTHeAlf",
    "kLPTbmBIFtH3",
    "3osFS_G1Grzy",
    "4EZWwJm4J2pY"
   ],
   "name": "final_project.ipynb",
   "provenance": []
  },
  "kernelspec": {
   "display_name": "Python 3",
   "language": "python",
   "name": "python3"
  },
  "language_info": {
   "codemirror_mode": {
    "name": "ipython",
    "version": 3
   },
   "file_extension": ".py",
   "mimetype": "text/x-python",
   "name": "python",
   "nbconvert_exporter": "python",
   "pygments_lexer": "ipython3",
   "version": "3.8.8"
  }
 },
 "nbformat": 4,
 "nbformat_minor": 1
}
